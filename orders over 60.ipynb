{
 "cells": [
  {
   "cell_type": "code",
   "execution_count": 1,
   "id": "be242bc9",
   "metadata": {},
   "outputs": [],
   "source": [
    "import mysql.connector as connector"
   ]
  },
  {
   "cell_type": "code",
   "execution_count": 2,
   "id": "5d1e3f14",
   "metadata": {},
   "outputs": [],
   "source": [
    "connection = connector.connect(user = \"newuser\", password = \"newuser123.\", db = \"little_lemon_db\")"
   ]
  },
  {
   "cell_type": "code",
   "execution_count": 3,
   "id": "64830579",
   "metadata": {},
   "outputs": [],
   "source": [
    "cursor = connection.cursor()"
   ]
  },
  {
   "cell_type": "code",
   "execution_count": 4,
   "id": "7d865bb5",
   "metadata": {},
   "outputs": [],
   "source": [
    "show_tables_query = \"SHOW TABLES;\"\n",
    "cursor.execute(show_tables_query)\n",
    "results = cursor.fetchall()"
   ]
  },
  {
   "cell_type": "code",
   "execution_count": 5,
   "id": "252c8ade",
   "metadata": {},
   "outputs": [
    {
     "name": "stdout",
     "output_type": "stream",
     "text": [
      "[('bookings',), ('customerdetails',), ('menu',), ('menuitems',), ('orderdeliverystatus',), ('orders',), ('orders_over_150',), ('orders_over_2',), ('ordersview',), ('staffinformation',)]\n"
     ]
    }
   ],
   "source": [
    "print(results)"
   ]
  },
  {
   "cell_type": "code",
   "execution_count": 6,
   "id": "05a70134",
   "metadata": {},
   "outputs": [],
   "source": [
    "over_60_qry = \"\"\"\n",
    "SELECT CONCAT(FirstName, \" \", LastName) AS FullName, ContactNumber, EmailAddress\n",
    "FROM customerdetails AS C\n",
    "LEFT JOIN orders AS O ON C.CustomerID = O.Customer_ID\n",
    "WHERE O.TotalCost > 60;\n",
    "\"\"\"\n",
    "\n",
    "cursor.execute(over_60_qry)\n",
    "results = cursor.fetchall()"
   ]
  },
  {
   "cell_type": "code",
   "execution_count": 7,
   "id": "bc3614e1",
   "metadata": {
    "scrolled": false
   },
   "outputs": [
    {
     "name": "stdout",
     "output_type": "stream",
     "text": [
      "[('Jane Smith', '+1-555-555-5678', 'jane.smith@example.com'), ('Michael Garcia', '+1-555-555-7890', 'michael.garcia@example.com')]\n"
     ]
    }
   ],
   "source": [
    "print(results)"
   ]
  }
 ],
 "metadata": {
  "kernelspec": {
   "display_name": "Python 3 (ipykernel)",
   "language": "python",
   "name": "python3"
  },
  "language_info": {
   "codemirror_mode": {
    "name": "ipython",
    "version": 3
   },
   "file_extension": ".py",
   "mimetype": "text/x-python",
   "name": "python",
   "nbconvert_exporter": "python",
   "pygments_lexer": "ipython3",
   "version": "3.10.4"
  }
 },
 "nbformat": 4,
 "nbformat_minor": 5
}
